{
 "cells": [
  {
   "cell_type": "code",
   "execution_count": 1,
   "id": "3558af33",
   "metadata": {},
   "outputs": [],
   "source": [
    "from dask.distributed import Client\n",
    "client = Client()"
   ]
  },
  {
   "cell_type": "code",
   "execution_count": 3,
   "id": "b12b400d",
   "metadata": {},
   "outputs": [],
   "source": [
    "import duckdb\n",
    "cursor = duckdb.connect()"
   ]
  },
  {
   "cell_type": "code",
   "execution_count": 5,
   "id": "7ec23f91",
   "metadata": {},
   "outputs": [],
   "source": [
    "import dask.dataframe as ddf"
   ]
  },
  {
   "cell_type": "code",
   "execution_count": 10,
   "id": "c00d4f3f",
   "metadata": {},
   "outputs": [],
   "source": [
    "neo_raw = ddf.read_parquet('/tmp/data/neo_parquet/*/*.parquet')"
   ]
  },
  {
   "cell_type": "code",
   "execution_count": 61,
   "id": "76806558",
   "metadata": {},
   "outputs": [],
   "source": [
    "neo_hazardous = neo_raw.loc[neo_raw['is_potentially_hazardous_asteroid']].compute()"
   ]
  },
  {
   "cell_type": "code",
   "execution_count": 64,
   "id": "95c9489b",
   "metadata": {},
   "outputs": [],
   "source": [
    "neo_hazardous_final = neo_hazardous[['id', 'name','close_approach_date','miss_distance_miles']]"
   ]
  },
  {
   "cell_type": "code",
   "execution_count": 65,
   "id": "ade31604",
   "metadata": {},
   "outputs": [
    {
     "data": {
      "text/html": [
       "<div>\n",
       "<style scoped>\n",
       "    .dataframe tbody tr th:only-of-type {\n",
       "        vertical-align: middle;\n",
       "    }\n",
       "\n",
       "    .dataframe tbody tr th {\n",
       "        vertical-align: top;\n",
       "    }\n",
       "\n",
       "    .dataframe thead th {\n",
       "        text-align: right;\n",
       "    }\n",
       "</style>\n",
       "<table border=\"1\" class=\"dataframe\">\n",
       "  <thead>\n",
       "    <tr style=\"text-align: right;\">\n",
       "      <th></th>\n",
       "      <th>id</th>\n",
       "      <th>name</th>\n",
       "      <th>close_approach_date</th>\n",
       "      <th>miss_distance_miles</th>\n",
       "    </tr>\n",
       "  </thead>\n",
       "  <tbody>\n",
       "    <tr>\n",
       "      <th>0</th>\n",
       "      <td>2216523</td>\n",
       "      <td>216523 (2001 HY7)</td>\n",
       "      <td>2021-04-02</td>\n",
       "      <td>29425246.37342055</td>\n",
       "    </tr>\n",
       "    <tr>\n",
       "      <th>0</th>\n",
       "      <td>2004581</td>\n",
       "      <td>4581 Asclepius (1989 FC)</td>\n",
       "      <td>2021-04-03</td>\n",
       "      <td>26116943.6698277706</td>\n",
       "    </tr>\n",
       "    <tr>\n",
       "      <th>2</th>\n",
       "      <td>2326290</td>\n",
       "      <td>326290 Akhenaten (1998 HE3)</td>\n",
       "      <td>2021-04-03</td>\n",
       "      <td>24495566.5599161034</td>\n",
       "    </tr>\n",
       "    <tr>\n",
       "      <th>3</th>\n",
       "      <td>2514596</td>\n",
       "      <td>514596 (2003 FG)</td>\n",
       "      <td>2021-04-03</td>\n",
       "      <td>6043170.9397648978</td>\n",
       "    </tr>\n",
       "    <tr>\n",
       "      <th>4</th>\n",
       "      <td>2523804</td>\n",
       "      <td>523804 (2000 YF29)</td>\n",
       "      <td>2021-04-03</td>\n",
       "      <td>10104656.9294565696</td>\n",
       "    </tr>\n",
       "    <tr>\n",
       "      <th>2</th>\n",
       "      <td>3610527</td>\n",
       "      <td>(2012 TP139)</td>\n",
       "      <td>2021-04-05</td>\n",
       "      <td>12328976.2677074094</td>\n",
       "    </tr>\n",
       "    <tr>\n",
       "      <th>5</th>\n",
       "      <td>54054354</td>\n",
       "      <td>(2020 RH7)</td>\n",
       "      <td>2021-04-06</td>\n",
       "      <td>24400158.7377786936</td>\n",
       "    </tr>\n",
       "  </tbody>\n",
       "</table>\n",
       "</div>"
      ],
      "text/plain": [
       "         id                         name close_approach_date  \\\n",
       "0   2216523            216523 (2001 HY7)          2021-04-02   \n",
       "0   2004581     4581 Asclepius (1989 FC)          2021-04-03   \n",
       "2   2326290  326290 Akhenaten (1998 HE3)          2021-04-03   \n",
       "3   2514596             514596 (2003 FG)          2021-04-03   \n",
       "4   2523804           523804 (2000 YF29)          2021-04-03   \n",
       "2   3610527                 (2012 TP139)          2021-04-05   \n",
       "5  54054354                   (2020 RH7)          2021-04-06   \n",
       "\n",
       "   miss_distance_miles  \n",
       "0    29425246.37342055  \n",
       "0  26116943.6698277706  \n",
       "2  24495566.5599161034  \n",
       "3   6043170.9397648978  \n",
       "4  10104656.9294565696  \n",
       "2  12328976.2677074094  \n",
       "5  24400158.7377786936  "
      ]
     },
     "execution_count": 65,
     "metadata": {},
     "output_type": "execute_result"
    }
   ],
   "source": [
    "neo_hazardous_final"
   ]
  },
  {
   "cell_type": "code",
   "execution_count": 70,
   "id": "5c3c6808",
   "metadata": {},
   "outputs": [],
   "source": [
    "neo_hazardous_final.to_parquet(path='/tmp/data/neo_hazardous_result.parquet')"
   ]
  },
  {
   "cell_type": "code",
   "execution_count": 72,
   "id": "781823a1",
   "metadata": {},
   "outputs": [],
   "source": [
    "cursor.execute(\"CREATE OR REPLACE VIEW neo_data AS SELECT * FROM parquet_scan('/tmp/data/neo_parquet/*/*.parquet')\").fetchall();"
   ]
  },
  {
   "cell_type": "code",
   "execution_count": 74,
   "id": "ea158110",
   "metadata": {},
   "outputs": [
    {
     "name": "stdout",
     "output_type": "stream",
     "text": [
      "[('2004581', '4581 Asclepius (1989 FC)', '26116943.6698277706'), ('2326290', '326290 Akhenaten (1998 HE3)', '24495566.5599161034'), ('2514596', '514596 (2003 FG)', '6043170.9397648978'), ('2523804', '523804 (2000 YF29)', '10104656.9294565696'), ('54054354', '(2020 RH7)', '24400158.7377786936'), ('3610527', '(2012 TP139)', '12328976.2677074094'), ('2216523', '216523 (2001 HY7)', '29425246.37342055')]\n"
     ]
    }
   ],
   "source": [
    "print(cursor.execute(\"SELECT id,name,miss_distance_miles FROM neo_data where is_potentially_hazardous_asteroid = True\").fetchall())"
   ]
  },
  {
   "cell_type": "code",
   "execution_count": null,
   "id": "fc4f8acc",
   "metadata": {},
   "outputs": [],
   "source": []
  }
 ],
 "metadata": {
  "kernelspec": {
   "display_name": "Python [conda env:nplay]",
   "language": "python",
   "name": "conda-env-nplay-py"
  },
  "language_info": {
   "codemirror_mode": {
    "name": "ipython",
    "version": 3
   },
   "file_extension": ".py",
   "mimetype": "text/x-python",
   "name": "python",
   "nbconvert_exporter": "python",
   "pygments_lexer": "ipython3",
   "version": "3.9.2"
  }
 },
 "nbformat": 4,
 "nbformat_minor": 5
}
